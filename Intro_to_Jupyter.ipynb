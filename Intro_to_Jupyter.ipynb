{
 "cells": [
  {
   "cell_type": "markdown",
   "id": "7416fd03",
   "metadata": {},
   "source": [
    "# Introduction to Jupyter Notebooks\n",
    "Jupyter Notebooks are an open-source web application that allows you to create and share documents that contain live code, equations, visualizations, and narrative text.\n"
   ]
  },
  {
   "cell_type": "code",
   "execution_count": 1,
   "id": "4df46a8c",
   "metadata": {},
   "outputs": [
    {
     "name": "stdout",
     "output_type": "stream",
     "text": [
      "4\n"
     ]
    }
   ],
   "source": [
    "# PRINTING 2+2\n",
    "print(2+2)"
   ]
  },
  {
   "cell_type": "markdown",
   "id": "a2d63354",
   "metadata": {},
   "source": [
    "# My Favorite Programming Languages\n",
    "**Here are a few programming languages I enjoy**:\n",
    "- *Python*\n",
    "- *JavaScript*\n",
    "- *C++*\n",
    "- *Java*\n"
   ]
  },
  {
   "cell_type": "markdown",
   "id": "0e7b3546",
   "metadata": {},
   "source": [
    "## ADDING HYPERLINK (MARKDOWN)\n"
   ]
  },
  {
   "cell_type": "markdown",
   "id": "22fea204",
   "metadata": {},
   "source": [
    "[google](www.google.com)"
   ]
  },
  {
   "cell_type": "markdown",
   "id": "d30a3269",
   "metadata": {},
   "source": [
    "# ADDING IMAGE (MARKDOWN)\n",
    "![Python Logo](https://www.python.org/static/community_logos/python-logo.png)\n"
   ]
  },
  {
   "cell_type": "markdown",
   "id": "e0b1234e",
   "metadata": {},
   "source": [
    "## Favorite Programming Languages\n",
    "Here are my favorite programming languages:\n",
    "1. Python\n",
    "2. JavaScript\n",
    "3. C++\n"
   ]
  },
  {
   "cell_type": "code",
   "execution_count": 5,
   "id": "1dbccea5",
   "metadata": {},
   "outputs": [],
   "source": [
    "def factorial(n):\n",
    "    if n == 0:\n",
    "        return 1\n",
    "    else:\n",
    "        return n * factorial(n-1)\n"
   ]
  },
  {
   "cell_type": "code",
   "execution_count": 6,
   "id": "21e7f85f",
   "metadata": {},
   "outputs": [
    {
     "name": "stdout",
     "output_type": "stream",
     "text": [
      "120\n",
      "1\n"
     ]
    }
   ],
   "source": [
    "print(factorial(5))  # Output: 120\n",
    "print(factorial(0))  # Output: 1\n"
   ]
  },
  {
   "cell_type": "code",
   "execution_count": 7,
   "id": "a2a06f29",
   "metadata": {},
   "outputs": [
    {
     "name": "stdout",
     "output_type": "stream",
     "text": [
      "Requirement already satisfied: numpy in c:\\users\\yashi\\anaconda3\\lib\\site-packages (1.26.4)\n"
     ]
    }
   ],
   "source": [
    "!pip install numpy\n"
   ]
  },
  {
   "cell_type": "code",
   "execution_count": 8,
   "id": "a5667805",
   "metadata": {},
   "outputs": [
    {
     "name": "stdout",
     "output_type": "stream",
     "text": [
      "3.0\n"
     ]
    }
   ],
   "source": [
    "import numpy as np\n",
    "data = [1, 2, 3, 4, 5]\n",
    "mean_value = np.mean(data)\n",
    "print(mean_value)  # Output: 3.0\n"
   ]
  },
  {
   "cell_type": "code",
   "execution_count": 10,
   "id": "4ce77f4b",
   "metadata": {},
   "outputs": [
    {
     "name": "stdout",
     "output_type": "stream",
     "text": [
      "[1 2 3]\n"
     ]
    }
   ],
   "source": [
    "n = np.array((1,2,3))\n",
    "print(n)"
   ]
  },
  {
   "cell_type": "code",
   "execution_count": 11,
   "id": "1b3cc53b",
   "metadata": {},
   "outputs": [
    {
     "name": "stdout",
     "output_type": "stream",
     "text": [
      "Median: 2.0\n"
     ]
    }
   ],
   "source": [
    "median = np.median(n)\n",
    "print(\"Median:\", median)\n"
   ]
  },
  {
   "cell_type": "code",
   "execution_count": 9,
   "id": "20d2e418",
   "metadata": {},
   "outputs": [
    {
     "data": {
      "image/png": "[encoded data removed]",
      "text/plain": [
       "<Figure size 640x480 with 1 Axes>"
      ]
     },
     "metadata": {},
     "output_type": "display_data"
    }
   ],
   "source": [
    "import matplotlib.pyplot as plt\n",
    "plt.plot([1, 2, 3, 4, 5], [1, 4, 9, 16, 25])\n",
    "plt.title('Square Numbers')\n",
    "plt.xlabel('Number')\n",
    "plt.ylabel('Square')\n",
    "plt.show()\n"
   ]
  },
  {
   "cell_type": "code",
   "execution_count": 1,
   "id": "4c04d81c",
   "metadata": {},
   "outputs": [
    {
     "data": {
      "application/vnd.jupyter.widget-view+json": {
       "model_id": "1bbe5e09e5b64986a0be8c73b1056767",
       "version_major": 2,
       "version_minor": 0
      },
      "text/plain": [
       "IntSlider(value=5, description='Slider:', max=10)"
      ]
     },
     "metadata": {},
     "output_type": "display_data"
    }
   ],
   "source": [
    "import ipywidgets as widgets\n",
    "from IPython.display import display\n",
    "\n",
    "slider = widgets.IntSlider(value=5, min=0, max=10, step=1, description='Slider:')\n",
    "display(slider)\n"
   ]
  },
  {
   "cell_type": "code",
   "execution_count": 2,
   "id": "37267878",
   "metadata": {},
   "outputs": [
    {
     "data": {
      "application/vnd.jupyter.widget-view+json": {
       "model_id": "56d4a828c0244fb489ba6cead6fdf1c3",
       "version_major": 2,
       "version_minor": 0
      },
      "text/plain": [
       "interactive(children=(IntSlider(value=1, description='x', max=10), Output()), _dom_classes=('widget-interact',…"
      ]
     },
     "metadata": {},
     "output_type": "display_data"
    },
    {
     "data": {
      "text/plain": [
       "<function __main__.update_plot(x)>"
      ]
     },
     "execution_count": 2,
     "metadata": {},
     "output_type": "execute_result"
    }
   ],
   "source": [
    "import matplotlib.pyplot as plt\n",
    "import numpy as np\n",
    "from ipywidgets import interact\n",
    "\n",
    "def update_plot(x):\n",
    "    plt.plot(np.arange(10), np.arange(10) * x)\n",
    "    plt.ylim(0, 100)\n",
    "    plt.show()\n",
    "\n",
    "interact(update_plot, x=widgets.IntSlider(value=1, min=0, max=10, step=1))\n"
   ]
  },
  {
   "cell_type": "code",
   "execution_count": null,
   "id": "436b3044",
   "metadata": {},
   "outputs": [],
   "source": []
  }
 ],
 "metadata": {
  "kernelspec": {
   "display_name": "Python 3 (ipykernel)",
   "language": "python",
   "name": "python3"
  },
  "language_info": {
   "codemirror_mode": {
    "name": "ipython",
    "version": 3
   },
   "file_extension": ".py",
   "mimetype": "text/x-python",
   "name": "python",
   "nbconvert_exporter": "python",
   "pygments_lexer": "ipython3",
   "version": "3.11.7"
  }
 },
 "nbformat": 4,
 "nbformat_minor": 5
}
